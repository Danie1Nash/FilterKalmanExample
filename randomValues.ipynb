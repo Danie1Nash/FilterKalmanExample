{
 "cells": [
  {
   "cell_type": "code",
   "execution_count": 52,
   "metadata": {},
   "outputs": [],
   "source": [
    "from math import cos\n",
    "from math import sin\n",
    "from math import log\n",
    "import random\n",
    "import math\n"
   ]
  },
  {
   "cell_type": "code",
   "execution_count": 53,
   "metadata": {},
   "outputs": [],
   "source": [
    "class N: # Нормальное распределение\n",
    "    def __init__(self, M, D): # f(x)=1/sqrt(2piD)*exp{-(x-M)^2/2D})\n",
    "        self.M = M                 \n",
    "        self.D = D\n",
    "    \n",
    "    def generate(self):\n",
    "        a1=random.random()\n",
    "        a2=random.random()\n",
    "        z=cos(2*math.pi*a1)*(-2*log(a2))**0.5\n",
    "        return self.M+z*self.D**0.5\n",
    "        \n",
    "    "
   ]
  },
  {
   "cell_type": "code",
   "execution_count": 35,
   "metadata": {},
   "outputs": [],
   "source": [
    "class E: # Экспоненциальное распределение\n",
    "    def __init__(self,L): # f(x) = L*exp(-Lx), x>=0\n",
    "        self.L=L          # f(x) = 0, x<0\n",
    "        self.M=1/L\n",
    "        self.D=1/(L*L)\n",
    "        \n",
    "    def generate(self):\n",
    "        alpha = random.random()\n",
    "        return -math.log(1-alpha)/self.L\n",
    "        "
   ]
  },
  {
   "cell_type": "code",
   "execution_count": 36,
   "metadata": {},
   "outputs": [],
   "source": [
    "class R: # Равномерное распределение\n",
    "    def __init__(self, a, b): # f(x) = 1/(b-a), x принадлежит [a,b]\n",
    "        self.a=a              # f(x) = 0, x не принадлежит [a,b]  \n",
    "        self.b=b\n",
    "        self.M=(a+b)/2\n",
    "        self.D=(b-a)**2/12\n",
    "        \n",
    "    def generate(self):\n",
    "        alpha = random.random()\n",
    "        return alpha*(self.b-self.a)+self.a"
   ]
  },
  {
   "cell_type": "code",
   "execution_count": 37,
   "metadata": {},
   "outputs": [],
   "source": [
    "class URV: # Unknown random value - неизвестная случайная величина\n",
    "    def __init__(self):\n",
    "        self.M=0\n",
    "        self.D=0\n",
    "        self.n=0\n",
    "        \n",
    "    def addValue(self, x): # Числовые характеристики распределения корректируются при добавлении новых наблюдений\n",
    "        self.M=(self.n*self.M+x)/(self.n+1)\n",
    "        self.D=(self.n*self.D+(x-self.M)**2)/(self.n+1)\n",
    "        self.n = self.n+1"
   ]
  },
  {
   "cell_type": "code",
   "execution_count": 54,
   "metadata": {},
   "outputs": [
    {
     "name": "stdout",
     "output_type": "stream",
     "text": [
      "11  - истинное матожидание\n",
      "11.010624487910563  - предсказанное матожидание\n",
      "5  - истинная дисперсия\n",
      "4.9360262704992435  - предсказанная дисперсия\n"
     ]
    }
   ],
   "source": [
    "a=N(11, 5) # Проверка работы\n",
    "b=URV()\n",
    "for i in range(10000):\n",
    "    b.addValue(a.generate()) # Подаём реализации случайной величины с известным законом\n",
    "    \n",
    "print(a.M, \" - истинное матожидание\") # Проверяем, что числовые характеристики были опознаны верно\n",
    "print(b.M, \" - предсказанное матожидание\")\n",
    "print(a.D, \" - истинная дисперсия\")\n",
    "print(b.D, \" - предсказанная дисперсия\")"
   ]
  },
  {
   "cell_type": "code",
   "execution_count": null,
   "metadata": {},
   "outputs": [],
   "source": []
  },
  {
   "cell_type": "code",
   "execution_count": null,
   "metadata": {},
   "outputs": [],
   "source": []
  }
 ],
 "metadata": {
  "kernelspec": {
   "display_name": "Python 3",
   "language": "python",
   "name": "python3"
  },
  "language_info": {
   "codemirror_mode": {
    "name": "ipython",
    "version": 3
   },
   "file_extension": ".py",
   "mimetype": "text/x-python",
   "name": "python",
   "nbconvert_exporter": "python",
   "pygments_lexer": "ipython3",
   "version": "3.8.5"
  }
 },
 "nbformat": 4,
 "nbformat_minor": 4
}
